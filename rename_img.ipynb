{
 "cells": [
  {
   "cell_type": "code",
   "execution_count": 7,
   "id": "2c4c126a",
   "metadata": {},
   "outputs": [],
   "source": [
    "import glob\n",
    "import os\n",
    "\n",
    "path = 'dataset/original/cloudy/'\n",
    "# for i, filename in enumerate(glob.glob(path + '*.jpg')):\n",
    "for i, filename in enumerate(glob.glob(path + '*.*')):\n",
    "    os.rename(filename, os.path.join(path, 'cloudy.' + str(i) + '.jpg'))"
   ]
  },
  {
   "cell_type": "code",
   "execution_count": 8,
   "id": "f9f5832d",
   "metadata": {},
   "outputs": [],
   "source": [
    "import glob\n",
    "import os\n",
    "\n",
    "path = 'dataset/original/foggy/'\n",
    "# for i, filename in enumerate(glob.glob(path + '*.jpg')):\n",
    "for i, filename in enumerate(glob.glob(path + '*.*')):\n",
    "    os.rename(filename, os.path.join(path, 'foggy.' + str(i) + '.jpg'))"
   ]
  },
  {
   "cell_type": "code",
   "execution_count": 9,
   "id": "daea9575",
   "metadata": {},
   "outputs": [],
   "source": [
    "import glob\n",
    "import os\n",
    "\n",
    "path = 'dataset/original/rain/'\n",
    "# for i, filename in enumerate(glob.glob(path + '*.jpg')):\n",
    "for i, filename in enumerate(glob.glob(path + '*.*')):\n",
    "    os.rename(filename, os.path.join(path, 'rain.' + str(i) + '.jpg'))"
   ]
  },
  {
   "cell_type": "code",
   "execution_count": 10,
   "id": "831b7a8e",
   "metadata": {},
   "outputs": [],
   "source": [
    "import glob\n",
    "import os\n",
    "\n",
    "path = 'dataset/original/shine/'\n",
    "# for i, filename in enumerate(glob.glob(path + '*.jpg')):\n",
    "for i, filename in enumerate(glob.glob(path + '*.*')):\n",
    "    os.rename(filename, os.path.join(path, 'shine.' + str(i) + '.jpg'))"
   ]
  },
  {
   "cell_type": "code",
   "execution_count": 11,
   "id": "3bd63019",
   "metadata": {},
   "outputs": [],
   "source": [
    "import glob\n",
    "import os\n",
    "\n",
    "path = 'dataset/original/sunrise/'\n",
    "# for i, filename in enumerate(glob.glob(path + '*.jpg')):\n",
    "for i, filename in enumerate(glob.glob(path + '*.*')):\n",
    "    os.rename(filename, os.path.join(path, 'sunrise.' + str(i) + '.jpg'))"
   ]
  },
  {
   "cell_type": "code",
   "execution_count": null,
   "id": "467665a1",
   "metadata": {},
   "outputs": [],
   "source": []
  }
 ],
 "metadata": {
  "kernelspec": {
   "display_name": "Python 3",
   "language": "python",
   "name": "python3"
  },
  "language_info": {
   "codemirror_mode": {
    "name": "ipython",
    "version": 3
   },
   "file_extension": ".py",
   "mimetype": "text/x-python",
   "name": "python",
   "nbconvert_exporter": "python",
   "pygments_lexer": "ipython3",
   "version": "3.8.8"
  }
 },
 "nbformat": 4,
 "nbformat_minor": 5
}
